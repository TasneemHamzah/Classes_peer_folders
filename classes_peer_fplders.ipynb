{
 "cells": [
  {
   "cell_type": "code",
   "execution_count": null,
   "metadata": {},
   "outputs": [],
   "source": [
    "# classify images and relocated in folders to process with keras later\n",
    "import os\n",
    "\n",
    "path = '/home/tasneem/Downloads/jpeg'\n",
    "labels = 'train_tidy.csv'\n",
    "# where put the folder with the classes and images\n",
    "folder = 'classes'\n",
    "data = 'train'\n",
    "\n",
    "\n",
    "images = [(f,f[:f.rfind('.')]) for f in os.listdir(os.path.join(path,data)) if f.endswith('.jpg')]\n",
    "\n",
    "\n",
    "import pandas as pd\n",
    "df = pd.read_csv(os.path.join(path,labels))\n",
    "df.set_index('image_name',inplace=True)\n",
    "\n",
    "\n",
    "import numpy as np\n",
    "import shutil\n",
    "# unknow is empty, then you have to create the folder manually\n",
    "# it is also necessary to put the index in front so that then keras when you read put them in order\n",
    "for or_im,im in images:\n",
    "\tclas = df.columns[np.argmax(df.loc[im].values)]\n",
    "\tparent_path = os.path.join(path,folder,clas)\n",
    "\tif not os.path.exists(parent_path):\n",
    "\t\tos.makedirs(parent_path)\n",
    "\tshutil.move(os.path.join(path,data,or_im),os.path.join(path,folder,clas,or_im))\n",
    "\n"
   ]
  }
 ],
 "metadata": {
  "kernelspec": {
   "display_name": "TensorFlow-GPU",
   "language": "python",
   "name": "tf-gpu"
  },
  "language_info": {
   "codemirror_mode": {
    "name": "ipython",
    "version": 3
   },
   "file_extension": ".py",
   "mimetype": "text/x-python",
   "name": "python",
   "nbconvert_exporter": "python",
   "pygments_lexer": "ipython3",
   "version": "3.6.10"
  }
 },
 "nbformat": 4,
 "nbformat_minor": 2
}
